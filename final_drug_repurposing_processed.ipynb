{
  "nbformat": 4,
  "nbformat_minor": 0,
  "metadata": {
    "colab": {
      "provenance": []
    },
    "kernelspec": {
      "name": "python3",
      "display_name": "Python 3"
    },
    "language_info": {
      "name": "python"
    }
  },
  "cells": [
    {
      "cell_type": "code",
      "source": [],
      "metadata": {
        "id": "lnIhEdgm9RBk"
      },
      "execution_count": null,
      "outputs": []
    },
    {
      "cell_type": "code",
      "source": [
        "import pandas as pd\n",
        "import numpy as np\n",
        "from sklearn.preprocessing import OneHotEncoder\n",
        "from sklearn.feature_extraction.text import TfidfVectorizer\n",
        "from sklearn.ensemble import RandomForestRegressor\n",
        "from sklearn.metrics import mean_squared_error, r2_score\n",
        "from sklearn.model_selection import train_test_split\n",
        "\n",
        "# Load the data\n",
        "df = pd.read_csv(\"/content/cleaned-data.csv\")"
      ],
      "metadata": {
        "id": "WOYKNpbr9RE5"
      },
      "execution_count": null,
      "outputs": []
    },
    {
      "cell_type": "code",
      "source": [
        "df.dropna(inplace=True)\n",
        "df.info()"
      ],
      "metadata": {
        "colab": {
          "base_uri": "https://localhost:8080/"
        },
        "id": "mLhf611j9RH9",
        "outputId": "67a59119-4628-463f-954e-c9a9b74b3dde"
      },
      "execution_count": null,
      "outputs": [
        {
          "output_type": "stream",
          "name": "stdout",
          "text": [
            "<class 'pandas.core.frame.DataFrame'>\n",
            "Index: 2538 entries, 0 to 2737\n",
            "Data columns (total 10 columns):\n",
            " #   Column                         Non-Null Count  Dtype  \n",
            "---  ------                         --------------  -----  \n",
            " 0   drug_name                      2538 non-null   object \n",
            " 1   medical_condition              2538 non-null   object \n",
            " 2   side_effects                   2538 non-null   object \n",
            " 3   generic_name                   2538 non-null   object \n",
            " 4   drug_classes                   2538 non-null   object \n",
            " 5   activity                       2538 non-null   float64\n",
            " 6   rx_otc                         2538 non-null   object \n",
            " 7   pregnancy_category             2538 non-null   object \n",
            " 8   csa                            2538 non-null   object \n",
            " 9   medical_condition_description  2538 non-null   object \n",
            "dtypes: float64(1), object(9)\n",
            "memory usage: 218.1+ KB\n"
          ]
        }
      ]
    },
    {
      "cell_type": "code",
      "source": [],
      "metadata": {
        "id": "xAR3jPi5It62"
      },
      "execution_count": null,
      "outputs": []
    },
    {
      "cell_type": "code",
      "source": [
        "import string\n",
        "\n",
        "# Function to remove punctuation and convert text to lowercase\n",
        "def preprocess_text(text):\n",
        "    text = text.lower()  # Convert to lowercase\n",
        "    text = text.translate(str.maketrans('', '', string.punctuation))  # Remove punctuation\n",
        "    return text\n",
        "for column in ['medical_condition', 'generic_name', 'rx_otc', 'pregnancy_category', 'csa', 'side_effects', 'medical_condition_description']:\n",
        "  df[column] = df[column].apply(preprocess_text)\n",
        "\n",
        "# # Apply the text preprocessing to 'side_effects' and 'medical_condition_description'\n",
        "# df['side_effects'] = df['side_effects'].apply(preprocess_text)\n",
        "# df['medical_condition_description'] = df['medical_condition_description'].apply(preprocess_text)"
      ],
      "metadata": {
        "id": "wCIhnr5NBcI4"
      },
      "execution_count": null,
      "outputs": []
    },
    {
      "cell_type": "code",
      "source": [
        "df['medical_condition_description'] = df['medical_condition_description'].str.replace(\n",
        "    r'other name', '', case=False, regex=True)"
      ],
      "metadata": {
        "id": "1n3xh_N0Ix5t"
      },
      "execution_count": null,
      "outputs": []
    },
    {
      "cell_type": "code",
      "source": [
        "df.head(3)"
      ],
      "metadata": {
        "colab": {
          "base_uri": "https://localhost:8080/",
          "height": 337
        },
        "id": "W0BFGKL5AJHB",
        "outputId": "bc7eae44-995d-4dc8-88ea-275978f07a5c"
      },
      "execution_count": null,
      "outputs": [
        {
          "output_type": "execute_result",
          "data": {
            "text/plain": [
              "        drug_name medical_condition  \\\n",
              "0     doxycycline              acne   \n",
              "1  spironolactone              acne   \n",
              "2     minocycline              acne   \n",
              "\n",
              "                                        side_effects    generic_name  \\\n",
              "0  hives difficult breathing swelling in your fac...     doxycycline   \n",
              "1  hives  difficulty breathing swelling of your f...  spironolactone   \n",
              "2  skin rash fever swollen glands flulike symptom...     minocycline   \n",
              "\n",
              "                                        drug_classes  activity rx_otc  \\\n",
              "0         Miscellaneous antimalarials, Tetracyclines      0.87     rx   \n",
              "1  Aldosterone receptor antagonists, Potassium-sp...      0.82     rx   \n",
              "2                                      Tetracyclines      0.48     rx   \n",
              "\n",
              "  pregnancy_category csa                      medical_condition_description  \n",
              "0                  d   n  acne s acne vulgaris blackheads breakouts cyst...  \n",
              "1                  c   n  acne s acne vulgaris blackheads breakouts cyst...  \n",
              "2                  d   n  acne s acne vulgaris blackheads breakouts cyst...  "
            ],
            "text/html": [
              "\n",
              "  <div id=\"df-76b583ef-a330-4df6-8fd2-dbcc2d7821bc\" class=\"colab-df-container\">\n",
              "    <div>\n",
              "<style scoped>\n",
              "    .dataframe tbody tr th:only-of-type {\n",
              "        vertical-align: middle;\n",
              "    }\n",
              "\n",
              "    .dataframe tbody tr th {\n",
              "        vertical-align: top;\n",
              "    }\n",
              "\n",
              "    .dataframe thead th {\n",
              "        text-align: right;\n",
              "    }\n",
              "</style>\n",
              "<table border=\"1\" class=\"dataframe\">\n",
              "  <thead>\n",
              "    <tr style=\"text-align: right;\">\n",
              "      <th></th>\n",
              "      <th>drug_name</th>\n",
              "      <th>medical_condition</th>\n",
              "      <th>side_effects</th>\n",
              "      <th>generic_name</th>\n",
              "      <th>drug_classes</th>\n",
              "      <th>activity</th>\n",
              "      <th>rx_otc</th>\n",
              "      <th>pregnancy_category</th>\n",
              "      <th>csa</th>\n",
              "      <th>medical_condition_description</th>\n",
              "    </tr>\n",
              "  </thead>\n",
              "  <tbody>\n",
              "    <tr>\n",
              "      <th>0</th>\n",
              "      <td>doxycycline</td>\n",
              "      <td>acne</td>\n",
              "      <td>hives difficult breathing swelling in your fac...</td>\n",
              "      <td>doxycycline</td>\n",
              "      <td>Miscellaneous antimalarials, Tetracyclines</td>\n",
              "      <td>0.87</td>\n",
              "      <td>rx</td>\n",
              "      <td>d</td>\n",
              "      <td>n</td>\n",
              "      <td>acne s acne vulgaris blackheads breakouts cyst...</td>\n",
              "    </tr>\n",
              "    <tr>\n",
              "      <th>1</th>\n",
              "      <td>spironolactone</td>\n",
              "      <td>acne</td>\n",
              "      <td>hives  difficulty breathing swelling of your f...</td>\n",
              "      <td>spironolactone</td>\n",
              "      <td>Aldosterone receptor antagonists, Potassium-sp...</td>\n",
              "      <td>0.82</td>\n",
              "      <td>rx</td>\n",
              "      <td>c</td>\n",
              "      <td>n</td>\n",
              "      <td>acne s acne vulgaris blackheads breakouts cyst...</td>\n",
              "    </tr>\n",
              "    <tr>\n",
              "      <th>2</th>\n",
              "      <td>minocycline</td>\n",
              "      <td>acne</td>\n",
              "      <td>skin rash fever swollen glands flulike symptom...</td>\n",
              "      <td>minocycline</td>\n",
              "      <td>Tetracyclines</td>\n",
              "      <td>0.48</td>\n",
              "      <td>rx</td>\n",
              "      <td>d</td>\n",
              "      <td>n</td>\n",
              "      <td>acne s acne vulgaris blackheads breakouts cyst...</td>\n",
              "    </tr>\n",
              "  </tbody>\n",
              "</table>\n",
              "</div>\n",
              "    <div class=\"colab-df-buttons\">\n",
              "      \n",
              "  <div class=\"colab-df-container\">\n",
              "    <button class=\"colab-df-convert\" onclick=\"convertToInteractive('df-76b583ef-a330-4df6-8fd2-dbcc2d7821bc')\"\n",
              "            title=\"Convert this dataframe to an interactive table.\"\n",
              "            style=\"display:none;\">\n",
              "      \n",
              "  <svg xmlns=\"http://www.w3.org/2000/svg\" height=\"24px\" viewBox=\"0 -960 960 960\">\n",
              "    <path d=\"M120-120v-720h720v720H120Zm60-500h600v-160H180v160Zm220 220h160v-160H400v160Zm0 220h160v-160H400v160ZM180-400h160v-160H180v160Zm440 0h160v-160H620v160ZM180-180h160v-160H180v160Zm440 0h160v-160H620v160Z\"/>\n",
              "  </svg>\n",
              "    </button>\n",
              "    \n",
              "  <style>\n",
              "    .colab-df-container {\n",
              "      display:flex;\n",
              "      gap: 12px;\n",
              "    }\n",
              "\n",
              "    .colab-df-convert {\n",
              "      background-color: #E8F0FE;\n",
              "      border: none;\n",
              "      border-radius: 50%;\n",
              "      cursor: pointer;\n",
              "      display: none;\n",
              "      fill: #1967D2;\n",
              "      height: 32px;\n",
              "      padding: 0 0 0 0;\n",
              "      width: 32px;\n",
              "    }\n",
              "\n",
              "    .colab-df-convert:hover {\n",
              "      background-color: #E2EBFA;\n",
              "      box-shadow: 0px 1px 2px rgba(60, 64, 67, 0.3), 0px 1px 3px 1px rgba(60, 64, 67, 0.15);\n",
              "      fill: #174EA6;\n",
              "    }\n",
              "\n",
              "    .colab-df-buttons div {\n",
              "      margin-bottom: 4px;\n",
              "    }\n",
              "\n",
              "    [theme=dark] .colab-df-convert {\n",
              "      background-color: #3B4455;\n",
              "      fill: #D2E3FC;\n",
              "    }\n",
              "\n",
              "    [theme=dark] .colab-df-convert:hover {\n",
              "      background-color: #434B5C;\n",
              "      box-shadow: 0px 1px 3px 1px rgba(0, 0, 0, 0.15);\n",
              "      filter: drop-shadow(0px 1px 2px rgba(0, 0, 0, 0.3));\n",
              "      fill: #FFFFFF;\n",
              "    }\n",
              "  </style>\n",
              "\n",
              "    <script>\n",
              "      const buttonEl =\n",
              "        document.querySelector('#df-76b583ef-a330-4df6-8fd2-dbcc2d7821bc button.colab-df-convert');\n",
              "      buttonEl.style.display =\n",
              "        google.colab.kernel.accessAllowed ? 'block' : 'none';\n",
              "\n",
              "      async function convertToInteractive(key) {\n",
              "        const element = document.querySelector('#df-76b583ef-a330-4df6-8fd2-dbcc2d7821bc');\n",
              "        const dataTable =\n",
              "          await google.colab.kernel.invokeFunction('convertToInteractive',\n",
              "                                                    [key], {});\n",
              "        if (!dataTable) return;\n",
              "\n",
              "        const docLinkHtml = 'Like what you see? Visit the ' +\n",
              "          '<a target=\"_blank\" href=https://colab.research.google.com/notebooks/data_table.ipynb>data table notebook</a>'\n",
              "          + ' to learn more about interactive tables.';\n",
              "        element.innerHTML = '';\n",
              "        dataTable['output_type'] = 'display_data';\n",
              "        await google.colab.output.renderOutput(dataTable, element);\n",
              "        const docLink = document.createElement('div');\n",
              "        docLink.innerHTML = docLinkHtml;\n",
              "        element.appendChild(docLink);\n",
              "      }\n",
              "    </script>\n",
              "  </div>\n",
              "  \n",
              "    </div>\n",
              "  </div>\n",
              "  "
            ],
            "application/vnd.google.colaboratory.intrinsic+json": {
              "type": "dataframe",
              "variable_name": "df",
              "summary": "{\n  \"name\": \"df\",\n  \"rows\": 2538,\n  \"fields\": [\n    {\n      \"column\": \"drug_name\",\n      \"properties\": {\n        \"dtype\": \"string\",\n        \"num_unique_values\": 2519,\n        \"samples\": [\n          \"MST\",\n          \"Tenormin\",\n          \"Milantex\"\n        ],\n        \"semantic_type\": \"\",\n        \"description\": \"\"\n      }\n    },\n    {\n      \"column\": \"medical_condition\",\n      \"properties\": {\n        \"dtype\": \"category\",\n        \"num_unique_values\": 47,\n        \"samples\": [\n          \"herpes\",\n          \"psoriasis\",\n          \"hayfever\"\n        ],\n        \"semantic_type\": \"\",\n        \"description\": \"\"\n      }\n    },\n    {\n      \"column\": \"side_effects\",\n      \"properties\": {\n        \"dtype\": \"string\",\n        \"num_unique_values\": 2490,\n        \"samples\": [\n          \"along with its needed effects a medicine may cause some unwanted effects although not all of these side effects may occur if they do occur they may need medical attention check with your doctor immediately if any of the following side effects occur more common blindness blurred vision cough or hoarseness decreased vision diarrhea dizziness fever or chills general feeling of discomfort or illness headache joint pain lower back or side pain loss of appetite muscle aches and pains nausea nervousness painful or difficult urination pounding in the ears runny nose shivering slow or fast heartbeat sore throat sweating swelling of the hands ankles feet or lower legs trouble sleeping unusual tiredness or weakness vomiting incidence not known anxiety chest tightness cold sweats coma confusion cool pale skin decreased urine depression depression or thickening of the skin at the injection site difficulty swallowing dizziness faintness or lightheadedness when getting up suddenly from a lying or sitting position dry mouth fast heartbeat hives itching skin rash increased hunger increased thirst itching pain redness or swelling at the injection site large hivelike swelling on the face eyelids lips tongue throat hands legs feet or sex organs mood changes muscle cramps nightmares numbness or tingling in the hands feet or lips puffiness or swelling of the eyelids or around the eyes face lips or tongue seizures shakiness slurred speech trouble breathing weight gain some side effects may occur that usually do not need medical attention these side effects may go away during treatment as your body adjusts to the medicine also your health care professional may be able to tell you about ways to prevent or reduce some of these side effects check with your health care professional if any of the following side effects continue or are bothersome or if you have any questions about them more common body aches or pain diarrhea difficulty in moving discouragement ear congestion feeling sad or empty irritability lack of appetite loss of interest or pleasure loss of voice muscle pain or stiffness pain in the arms or legs pain in the joints pain or tenderness around the eyes and cheekbones sneezing stuffy or runny nose tender swollen glands in the neck trouble concentrating voice changes other side effects not listed may also occur in some patients if you notice any other effects check with your healthcare professional call your doctor for medical advice about side effects you may report side effects to the fda at 1800fda1088 rezvoglar side effects\",\n          \"hives  blisters severe itching difficult breathing swelling of your face lips tongue or throat tell your doctor right away if you have signs of blood vessel inflammation flulike symptoms severe sinus pain a skin rash numbness or a pins and needles feeling in your arms or legs some people using montelukast have had new or worsening mental problems stop taking montelukast and call your doctor right away if you have unusual changes in mood or behavior such as agitation aggression feeling restless or irritable anxiety  depression confusion problems with memory or attention stuttering tremors uncontrolled muscle movements suicidal thoughts or actions hallucinations sleep problems vivid dreams sleepwalking or compulsive or repetitive behaviors common side effects of montelukast may include stomach pain diarrhea  fever or other flu symptoms ear pain or full feeling trouble hearing headache  or cold symptoms such as runny or stuffy nose sinus pain cough sore throat \",\n          \"hives  difficult breathing swelling of your face lips tongue or throat olodaterol may cause serious side effects call your doctor at once if you have tremors nervousness chest pain fast or pounding heartbeats wheezing choking or other breathing problems after using this medicine worsening breathing problems high blood sugarincreased thirst increased urination dry mouth fruity breath odor or low potassium levelleg cramps constipation  irregular heartbeats fluttering in your chest numbness or tingling muscle weakness or limp feeling common side effects of olodaterol may include cold symptoms such as stuffy nose sneezing sore throat  cough shortness of breath chest discomfort diarrhea  dizziness  pain or burning when you urinate back pain  joint pain or rash\"\n        ],\n        \"semantic_type\": \"\",\n        \"description\": \"\"\n      }\n    },\n    {\n      \"column\": \"generic_name\",\n      \"properties\": {\n        \"dtype\": \"category\",\n        \"num_unique_values\": 1179,\n        \"samples\": [\n          \"mepolizumab\",\n          \"sulfur and salicylic acid shampoo\",\n          \"dexchlorpheniramine and phenylephrine\"\n        ],\n        \"semantic_type\": \"\",\n        \"description\": \"\"\n      }\n    },\n    {\n      \"column\": \"drug_classes\",\n      \"properties\": {\n        \"dtype\": \"category\",\n        \"num_unique_values\": 263,\n        \"samples\": [\n          \"Analgesic combinations\",\n          \"Antirheumatics, Interleukin inhibitors\",\n          \"Anorexiants\"\n        ],\n        \"semantic_type\": \"\",\n        \"description\": \"\"\n      }\n    },\n    {\n      \"column\": \"activity\",\n      \"properties\": {\n        \"dtype\": \"number\",\n        \"std\": 0.17524552777298164,\n        \"min\": 0.0,\n        \"max\": 1.0,\n        \"num_unique_values\": 92,\n        \"samples\": [\n          0.5,\n          1.0,\n          0.67\n        ],\n        \"semantic_type\": \"\",\n        \"description\": \"\"\n      }\n    },\n    {\n      \"column\": \"rx_otc\",\n      \"properties\": {\n        \"dtype\": \"category\",\n        \"num_unique_values\": 3,\n        \"samples\": [\n          \"rx\",\n          \"rxotc\",\n          \"otc\"\n        ],\n        \"semantic_type\": \"\",\n        \"description\": \"\"\n      }\n    },\n    {\n      \"column\": \"pregnancy_category\",\n      \"properties\": {\n        \"dtype\": \"category\",\n        \"num_unique_values\": 6,\n        \"samples\": [\n          \"d\",\n          \"c\",\n          \"a\"\n        ],\n        \"semantic_type\": \"\",\n        \"description\": \"\"\n      }\n    },\n    {\n      \"column\": \"csa\",\n      \"properties\": {\n        \"dtype\": \"category\",\n        \"num_unique_values\": 6,\n        \"samples\": [\n          \"n\",\n          \"2\",\n          \"3\"\n        ],\n        \"semantic_type\": \"\",\n        \"description\": \"\"\n      }\n    },\n    {\n      \"column\": \"medical_condition_description\",\n      \"properties\": {\n        \"dtype\": \"category\",\n        \"num_unique_values\": 47,\n        \"samples\": [\n          \"herpes simplex an infection caused by herpes viruses 1 or 2  which primarily affects the mouth or genital area drugs used for herpes simplex the following list of medications are in some way related to or used in the treatment of this condition select drug class all drug classes topical antiinfectives 2 miscellaneous topical agents 2 purine nucleosides 3 topical antivirals 3 show hide filters filter brands and generics brands and generics brands generics include offlabel drugs include offlabel drugs approved offlabel rx and otc rx and otc rx otc drug name rating reviews activity quest rxotc preg nancy csa alcohol expand current row for information about acyclovir acyclovir 80 94 reviews rx b n generic name acyclovir systemic brand name zovirax drug class purine nucleosides for consumers dosage  interactions  side effects for professionals ahfs di monograph  prescribing information expand current row for information about valacyclovir valacyclovir 58 9 reviews rx b n generic name valacyclovir systemic drug class purine nucleosides for consumers dosage  interactions  side effects for professionals ahfs di monograph  prescribing information expand current row for information about zovirax cream zovirax cream 93 4 reviews rx b n generic name acyclovir topical drug class topical antivirals for consumers dosage  interactions  side effects for professionals prescribing information expand current row for information about abreva abreva 45 422 reviews otc n n generic name docosanol topical drug class topical antiinfectives for consumers dosage  side effects expand current row for information about acyclovir acyclovir 86 14 reviews rx b n generic name acyclovir topical brand names zovirax cream zovirax ointment drug class topical antivirals for consumers dosage  interactions  side effects for professionals ahfs di monograph  prescribing information expand current row for information about zovirax ointment zovirax ointment 87 3 reviews rx b n generic name acyclovir topical drug class topical antivirals for consumers dosage  interactions  side effects for professionals prescribing information expand current row for information about zovirax zovirax 74 7 reviews rx b n generic name acyclovir systemic drug class purine nucleosides for consumers dosage  interactions  side effects for professionals prescribing information expand current row for information about docosanol docosanol 46 433 reviews otc n n generic name docosanol topical brand name abreva drug class topical antiinfectives for consumers dosage  side effects for professionals ahfs di monograph expand current row for information about blistex ointment blistex ointment 10 1 review otc n n generic name allantoin  camphor  phenol topical drug class miscellaneous topical agents for consumers side effects expand current row for information about allantoin  camphor  phenol allantoin  camphor  phenol 10 1 review otc n n generic name allantoin  camphor  phenol topical brand name blistex ointment drug class miscellaneous topical agents for consumers side effects frequently asked questions if you have the herpes simplex outbreaks what dosage of lysine do you recommend topics under herpes simplex cold sores 18 drugs herpes simplex  congenital 2 drugs herpes simplex mucocutaneousimmunocompetent host 4 drugs herpes simplex mucocutaneousimmunocompromised host 6 drugs herpes simplex suppression 5 drugs alternative treatments for herpes simplex the following products are considered to be alternative treatments or natural remedies for herpes simplex their efficacy may not have been scientifically tested to the same degree as the drugs listed in the table above however there may be historical cultural or anecdotal evidence linking their use to the treatment of herpes simplex lysine learn more about herpes simplex drug treatment of hiv and aids complications care guides herpes simplex care notes symptoms and treatments herpes simplex health guide medicinecom guides external herpes simplex guide legend rating for ratings users were asked how effective they found the medicine while considering positiveadverse effects and ease of use 1  not effective 10  most effective activity activity is based on recent site visitor activity relative to other medications in the list rx prescription only otc overthecounter rxotc prescription or overthecounter offlabel this medication may not be approved by the fda for the treatment of this condition eua an emergency use authorization eua allows the fda to authorize unapproved medical products or unapproved uses of approved medical products to be used in a declared public health emergency when there are no adequate approved and available alternatives pregnancy category a adequate and wellcontrolled studies have failed to demonstrate a risk to the fetus in the first trimester of pregnancy and there is no evidence of risk in later trimesters b animal reproduction studies have failed to demonstrate a risk to the fetus and there are no adequate and wellcontrolled studies in pregnant women c animal reproduction studies have shown an adverse effect on the fetus and there are no adequate and wellcontrolled studies in humans but potential benefits may warrant use in pregnant women despite potential risks d there is positive evidence of human fetal risk based on adverse reaction data from investigational or marketing experience or studies in humans but potential benefits may warrant use in pregnant women despite potential risks x studies in animals or humans have demonstrated fetal abnormalities andor there is positive evidence of human fetal risk based on adverse reaction data from investigational or marketing experience and the risks involved in use in pregnant women clearly outweigh potential benefits n fda has not classified the drug controlled substances act csa schedule m the drug has multiple schedules the schedule may depend on the exact dosage form or strength of the medication u csa schedule is unknown n is not subject to the controlled substances act 1 has a high potential for abuse has no currently accepted medical use in treatment in the united states there is a lack of accepted safety for use under medical supervision 2 has a high potential for abuse has a currently accepted medical use in treatment in the united states or a currently accepted medical use with severe restrictions abuse may lead to severe psychological or physical dependence 3 has a potential for abuse less than those in schedules 1 and 2 has a currently accepted medical use in treatment in the united states abuse may lead to moderate or low physical dependence or high psychological dependence 4 has a low potential for abuse relative to those in schedule 3 it has a currently accepted medical use in treatment in the united states abuse may lead to limited physical dependence or psychological dependence relative to those in schedule 3 5 has a low potential for abuse relative to those in schedule 4 has a currently accepted medical use in treatment in the united states abuse may lead to limited physical dependence or psychological dependence relative to those in schedule 4 alcohol x interacts with alcohol browse treatment options a b c d e f g h i j k l m n o p q r s t u v w x y z further information always consult your healthcare provider to ensure the information displayed on this page applies to your personal circumstances medical disclaimer\",\n          \"psoriasis s erythrodermic psoriasis guttate psoriasis inverse psoriasis palmoplantar psoriasis psoriasis is a common skin inflammation irritation and swelling characterized by frequent episodes of redness itching and thick dry silvery scales on the skin common medications used to treat psoriasis include humira and methotrexate \",\n          \"allergic rhinitis s hay fever nasal allergies a collection of symptoms predominantly in the nose and eyes that occur after exposure to airborne particles of dust or dander or to pollens of certain seasonal plants in people that are allergic to these substances see also allergies asthma allergy to mold dander dust\"\n        ],\n        \"semantic_type\": \"\",\n        \"description\": \"\"\n      }\n    }\n  ]\n}"
            }
          },
          "metadata": {},
          "execution_count": 53
        }
      ]
    },
    {
      "cell_type": "code",
      "source": [],
      "metadata": {
        "id": "pUTonQBrGACX"
      },
      "execution_count": null,
      "outputs": []
    },
    {
      "cell_type": "code",
      "source": [
        "\n",
        "# OneHotEncode categorical variables\n",
        "categorical_columns = ['medical_condition', 'generic_name', 'rx_otc', 'pregnancy_category', 'csa']\n",
        "onehot_encoder = OneHotEncoder(sparse_output=False, drop='first', handle_unknown='ignore')\n",
        "df_encoded_categorical = onehot_encoder.fit_transform(df[categorical_columns])\n",
        "\n",
        "# TF-IDF Vectorization for text data\n",
        "tfidf_side = TfidfVectorizer(max_features=500)\n",
        "df_tfidf_side_effects = tfidf_side.fit_transform(df['side_effects']).toarray()\n",
        "tfidf_condition = TfidfVectorizer(max_features=500)\n",
        "df_tfidf_medical_condition_desc = tfidf_condition.fit_transform(df['medical_condition_description']).toarray()\n",
        "\n",
        "# Combine all features\n",
        "df_features = np.hstack([df_encoded_categorical, df_tfidf_side_effects, df_tfidf_medical_condition_desc])\n",
        "\n",
        "# Split the data into training and testing sets\n",
        "X = df_features\n",
        "y_activity = df['activity']"
      ],
      "metadata": {
        "id": "jTdg8w9196GV"
      },
      "execution_count": null,
      "outputs": []
    },
    {
      "cell_type": "code",
      "source": [],
      "metadata": {
        "id": "tgkbL4YEELCF"
      },
      "execution_count": null,
      "outputs": []
    },
    {
      "cell_type": "code",
      "source": [
        "X_train, X_test, y_train_activity, y_test_activity = train_test_split(X, y_activity, test_size=0.2, random_state=42)"
      ],
      "metadata": {
        "id": "88Dx-dPj96T2"
      },
      "execution_count": null,
      "outputs": []
    },
    {
      "cell_type": "code",
      "source": [
        "# Train a Random Forest Regressor for 'activity'\n",
        "rf_activity = RandomForestRegressor(n_estimators=200, random_state=42)\n",
        "rf_activity.fit(X_train, y_train_activity)"
      ],
      "metadata": {
        "colab": {
          "base_uri": "https://localhost:8080/",
          "height": 74
        },
        "id": "b8PXFA81-CHL",
        "outputId": "a11d82e8-0637-4d44-da03-3ddd39cf4a1d"
      },
      "execution_count": null,
      "outputs": [
        {
          "output_type": "execute_result",
          "data": {
            "text/plain": [
              "RandomForestRegressor(n_estimators=200, random_state=42)"
            ],
            "text/html": [
              "<style>#sk-container-id-7 {color: black;}#sk-container-id-7 pre{padding: 0;}#sk-container-id-7 div.sk-toggleable {background-color: white;}#sk-container-id-7 label.sk-toggleable__label {cursor: pointer;display: block;width: 100%;margin-bottom: 0;padding: 0.3em;box-sizing: border-box;text-align: center;}#sk-container-id-7 label.sk-toggleable__label-arrow:before {content: \"▸\";float: left;margin-right: 0.25em;color: #696969;}#sk-container-id-7 label.sk-toggleable__label-arrow:hover:before {color: black;}#sk-container-id-7 div.sk-estimator:hover label.sk-toggleable__label-arrow:before {color: black;}#sk-container-id-7 div.sk-toggleable__content {max-height: 0;max-width: 0;overflow: hidden;text-align: left;background-color: #f0f8ff;}#sk-container-id-7 div.sk-toggleable__content pre {margin: 0.2em;color: black;border-radius: 0.25em;background-color: #f0f8ff;}#sk-container-id-7 input.sk-toggleable__control:checked~div.sk-toggleable__content {max-height: 200px;max-width: 100%;overflow: auto;}#sk-container-id-7 input.sk-toggleable__control:checked~label.sk-toggleable__label-arrow:before {content: \"▾\";}#sk-container-id-7 div.sk-estimator input.sk-toggleable__control:checked~label.sk-toggleable__label {background-color: #d4ebff;}#sk-container-id-7 div.sk-label input.sk-toggleable__control:checked~label.sk-toggleable__label {background-color: #d4ebff;}#sk-container-id-7 input.sk-hidden--visually {border: 0;clip: rect(1px 1px 1px 1px);clip: rect(1px, 1px, 1px, 1px);height: 1px;margin: -1px;overflow: hidden;padding: 0;position: absolute;width: 1px;}#sk-container-id-7 div.sk-estimator {font-family: monospace;background-color: #f0f8ff;border: 1px dotted black;border-radius: 0.25em;box-sizing: border-box;margin-bottom: 0.5em;}#sk-container-id-7 div.sk-estimator:hover {background-color: #d4ebff;}#sk-container-id-7 div.sk-parallel-item::after {content: \"\";width: 100%;border-bottom: 1px solid gray;flex-grow: 1;}#sk-container-id-7 div.sk-label:hover label.sk-toggleable__label {background-color: #d4ebff;}#sk-container-id-7 div.sk-serial::before {content: \"\";position: absolute;border-left: 1px solid gray;box-sizing: border-box;top: 0;bottom: 0;left: 50%;z-index: 0;}#sk-container-id-7 div.sk-serial {display: flex;flex-direction: column;align-items: center;background-color: white;padding-right: 0.2em;padding-left: 0.2em;position: relative;}#sk-container-id-7 div.sk-item {position: relative;z-index: 1;}#sk-container-id-7 div.sk-parallel {display: flex;align-items: stretch;justify-content: center;background-color: white;position: relative;}#sk-container-id-7 div.sk-item::before, #sk-container-id-7 div.sk-parallel-item::before {content: \"\";position: absolute;border-left: 1px solid gray;box-sizing: border-box;top: 0;bottom: 0;left: 50%;z-index: -1;}#sk-container-id-7 div.sk-parallel-item {display: flex;flex-direction: column;z-index: 1;position: relative;background-color: white;}#sk-container-id-7 div.sk-parallel-item:first-child::after {align-self: flex-end;width: 50%;}#sk-container-id-7 div.sk-parallel-item:last-child::after {align-self: flex-start;width: 50%;}#sk-container-id-7 div.sk-parallel-item:only-child::after {width: 0;}#sk-container-id-7 div.sk-dashed-wrapped {border: 1px dashed gray;margin: 0 0.4em 0.5em 0.4em;box-sizing: border-box;padding-bottom: 0.4em;background-color: white;}#sk-container-id-7 div.sk-label label {font-family: monospace;font-weight: bold;display: inline-block;line-height: 1.2em;}#sk-container-id-7 div.sk-label-container {text-align: center;}#sk-container-id-7 div.sk-container {/* jupyter's `normalize.less` sets `[hidden] { display: none; }` but bootstrap.min.css set `[hidden] { display: none !important; }` so we also need the `!important` here to be able to override the default hidden behavior on the sphinx rendered scikit-learn.org. See: https://github.com/scikit-learn/scikit-learn/issues/21755 */display: inline-block !important;position: relative;}#sk-container-id-7 div.sk-text-repr-fallback {display: none;}</style><div id=\"sk-container-id-7\" class=\"sk-top-container\"><div class=\"sk-text-repr-fallback\"><pre>RandomForestRegressor(n_estimators=200, random_state=42)</pre><b>In a Jupyter environment, please rerun this cell to show the HTML representation or trust the notebook. <br />On GitHub, the HTML representation is unable to render, please try loading this page with nbviewer.org.</b></div><div class=\"sk-container\" hidden><div class=\"sk-item\"><div class=\"sk-estimator sk-toggleable\"><input class=\"sk-toggleable__control sk-hidden--visually\" id=\"sk-estimator-id-7\" type=\"checkbox\" checked><label for=\"sk-estimator-id-7\" class=\"sk-toggleable__label sk-toggleable__label-arrow\">RandomForestRegressor</label><div class=\"sk-toggleable__content\"><pre>RandomForestRegressor(n_estimators=200, random_state=42)</pre></div></div></div></div></div>"
            ]
          },
          "metadata": {},
          "execution_count": 56
        }
      ]
    },
    {
      "cell_type": "code",
      "source": [
        "# Predict on the test set\n",
        "y_pred_activity = rf_activity.predict(X_test)"
      ],
      "metadata": {
        "id": "ZlZtpExv-FM4"
      },
      "execution_count": null,
      "outputs": []
    },
    {
      "cell_type": "code",
      "source": [
        "# Evaluate Activity Model\n",
        "mse_activity = mean_squared_error(y_test_activity, y_pred_activity)\n",
        "r2_activity = r2_score(y_test_activity, y_pred_activity)\n",
        "\n",
        "(mse_activity, r2_activity)\n",
        "print(f\"Random forest Model - MSE: {mse_activity}, R2: {r2_activity}\")\n"
      ],
      "metadata": {
        "id": "RHAikbenWI2G",
        "colab": {
          "base_uri": "https://localhost:8080/"
        },
        "outputId": "7d7e76df-56b0-43db-d460-94bf2f67f19f"
      },
      "execution_count": null,
      "outputs": [
        {
          "output_type": "stream",
          "name": "stdout",
          "text": [
            "Random forest Model - MSE: 0.02052975561266791, R2: 0.28278418024567187\n"
          ]
        }
      ]
    },
    {
      "cell_type": "markdown",
      "source": [
        "# XGBoost"
      ],
      "metadata": {
        "id": "-SPAWhlE_kzm"
      }
    },
    {
      "cell_type": "code",
      "source": [
        "# Train an XGBoost Regressor for 'activity'\n",
        "xgb_activity = xgb.XGBRegressor(objective='reg:squarederror', learning_rate= 0.01, max_depth= 7, n_estimators= 300, random_state=42)\n",
        "xgb_activity.fit(X_train, y_train_activity)"
      ],
      "metadata": {
        "colab": {
          "base_uri": "https://localhost:8080/",
          "height": 248
        },
        "id": "PZuoS5qY_jRo",
        "outputId": "72695124-2774-42d1-c311-e8257b32edb3"
      },
      "execution_count": null,
      "outputs": [
        {
          "output_type": "execute_result",
          "data": {
            "text/plain": [
              "XGBRegressor(base_score=None, booster=None, callbacks=None,\n",
              "             colsample_bylevel=None, colsample_bynode=None,\n",
              "             colsample_bytree=None, device=None, early_stopping_rounds=None,\n",
              "             enable_categorical=False, eval_metric=None, feature_types=None,\n",
              "             gamma=None, grow_policy=None, importance_type=None,\n",
              "             interaction_constraints=None, learning_rate=0.01, max_bin=None,\n",
              "             max_cat_threshold=None, max_cat_to_onehot=None,\n",
              "             max_delta_step=None, max_depth=7, max_leaves=None,\n",
              "             min_child_weight=None, missing=nan, monotone_constraints=None,\n",
              "             multi_strategy=None, n_estimators=300, n_jobs=None,\n",
              "             num_parallel_tree=None, random_state=42, ...)"
            ],
            "text/html": [
              "<style>#sk-container-id-6 {color: black;}#sk-container-id-6 pre{padding: 0;}#sk-container-id-6 div.sk-toggleable {background-color: white;}#sk-container-id-6 label.sk-toggleable__label {cursor: pointer;display: block;width: 100%;margin-bottom: 0;padding: 0.3em;box-sizing: border-box;text-align: center;}#sk-container-id-6 label.sk-toggleable__label-arrow:before {content: \"▸\";float: left;margin-right: 0.25em;color: #696969;}#sk-container-id-6 label.sk-toggleable__label-arrow:hover:before {color: black;}#sk-container-id-6 div.sk-estimator:hover label.sk-toggleable__label-arrow:before {color: black;}#sk-container-id-6 div.sk-toggleable__content {max-height: 0;max-width: 0;overflow: hidden;text-align: left;background-color: #f0f8ff;}#sk-container-id-6 div.sk-toggleable__content pre {margin: 0.2em;color: black;border-radius: 0.25em;background-color: #f0f8ff;}#sk-container-id-6 input.sk-toggleable__control:checked~div.sk-toggleable__content {max-height: 200px;max-width: 100%;overflow: auto;}#sk-container-id-6 input.sk-toggleable__control:checked~label.sk-toggleable__label-arrow:before {content: \"▾\";}#sk-container-id-6 div.sk-estimator input.sk-toggleable__control:checked~label.sk-toggleable__label {background-color: #d4ebff;}#sk-container-id-6 div.sk-label input.sk-toggleable__control:checked~label.sk-toggleable__label {background-color: #d4ebff;}#sk-container-id-6 input.sk-hidden--visually {border: 0;clip: rect(1px 1px 1px 1px);clip: rect(1px, 1px, 1px, 1px);height: 1px;margin: -1px;overflow: hidden;padding: 0;position: absolute;width: 1px;}#sk-container-id-6 div.sk-estimator {font-family: monospace;background-color: #f0f8ff;border: 1px dotted black;border-radius: 0.25em;box-sizing: border-box;margin-bottom: 0.5em;}#sk-container-id-6 div.sk-estimator:hover {background-color: #d4ebff;}#sk-container-id-6 div.sk-parallel-item::after {content: \"\";width: 100%;border-bottom: 1px solid gray;flex-grow: 1;}#sk-container-id-6 div.sk-label:hover label.sk-toggleable__label {background-color: #d4ebff;}#sk-container-id-6 div.sk-serial::before {content: \"\";position: absolute;border-left: 1px solid gray;box-sizing: border-box;top: 0;bottom: 0;left: 50%;z-index: 0;}#sk-container-id-6 div.sk-serial {display: flex;flex-direction: column;align-items: center;background-color: white;padding-right: 0.2em;padding-left: 0.2em;position: relative;}#sk-container-id-6 div.sk-item {position: relative;z-index: 1;}#sk-container-id-6 div.sk-parallel {display: flex;align-items: stretch;justify-content: center;background-color: white;position: relative;}#sk-container-id-6 div.sk-item::before, #sk-container-id-6 div.sk-parallel-item::before {content: \"\";position: absolute;border-left: 1px solid gray;box-sizing: border-box;top: 0;bottom: 0;left: 50%;z-index: -1;}#sk-container-id-6 div.sk-parallel-item {display: flex;flex-direction: column;z-index: 1;position: relative;background-color: white;}#sk-container-id-6 div.sk-parallel-item:first-child::after {align-self: flex-end;width: 50%;}#sk-container-id-6 div.sk-parallel-item:last-child::after {align-self: flex-start;width: 50%;}#sk-container-id-6 div.sk-parallel-item:only-child::after {width: 0;}#sk-container-id-6 div.sk-dashed-wrapped {border: 1px dashed gray;margin: 0 0.4em 0.5em 0.4em;box-sizing: border-box;padding-bottom: 0.4em;background-color: white;}#sk-container-id-6 div.sk-label label {font-family: monospace;font-weight: bold;display: inline-block;line-height: 1.2em;}#sk-container-id-6 div.sk-label-container {text-align: center;}#sk-container-id-6 div.sk-container {/* jupyter's `normalize.less` sets `[hidden] { display: none; }` but bootstrap.min.css set `[hidden] { display: none !important; }` so we also need the `!important` here to be able to override the default hidden behavior on the sphinx rendered scikit-learn.org. See: https://github.com/scikit-learn/scikit-learn/issues/21755 */display: inline-block !important;position: relative;}#sk-container-id-6 div.sk-text-repr-fallback {display: none;}</style><div id=\"sk-container-id-6\" class=\"sk-top-container\"><div class=\"sk-text-repr-fallback\"><pre>XGBRegressor(base_score=None, booster=None, callbacks=None,\n",
              "             colsample_bylevel=None, colsample_bynode=None,\n",
              "             colsample_bytree=None, device=None, early_stopping_rounds=None,\n",
              "             enable_categorical=False, eval_metric=None, feature_types=None,\n",
              "             gamma=None, grow_policy=None, importance_type=None,\n",
              "             interaction_constraints=None, learning_rate=0.01, max_bin=None,\n",
              "             max_cat_threshold=None, max_cat_to_onehot=None,\n",
              "             max_delta_step=None, max_depth=7, max_leaves=None,\n",
              "             min_child_weight=None, missing=nan, monotone_constraints=None,\n",
              "             multi_strategy=None, n_estimators=300, n_jobs=None,\n",
              "             num_parallel_tree=None, random_state=42, ...)</pre><b>In a Jupyter environment, please rerun this cell to show the HTML representation or trust the notebook. <br />On GitHub, the HTML representation is unable to render, please try loading this page with nbviewer.org.</b></div><div class=\"sk-container\" hidden><div class=\"sk-item\"><div class=\"sk-estimator sk-toggleable\"><input class=\"sk-toggleable__control sk-hidden--visually\" id=\"sk-estimator-id-6\" type=\"checkbox\" checked><label for=\"sk-estimator-id-6\" class=\"sk-toggleable__label sk-toggleable__label-arrow\">XGBRegressor</label><div class=\"sk-toggleable__content\"><pre>XGBRegressor(base_score=None, booster=None, callbacks=None,\n",
              "             colsample_bylevel=None, colsample_bynode=None,\n",
              "             colsample_bytree=None, device=None, early_stopping_rounds=None,\n",
              "             enable_categorical=False, eval_metric=None, feature_types=None,\n",
              "             gamma=None, grow_policy=None, importance_type=None,\n",
              "             interaction_constraints=None, learning_rate=0.01, max_bin=None,\n",
              "             max_cat_threshold=None, max_cat_to_onehot=None,\n",
              "             max_delta_step=None, max_depth=7, max_leaves=None,\n",
              "             min_child_weight=None, missing=nan, monotone_constraints=None,\n",
              "             multi_strategy=None, n_estimators=300, n_jobs=None,\n",
              "             num_parallel_tree=None, random_state=42, ...)</pre></div></div></div></div></div>"
            ]
          },
          "metadata": {},
          "execution_count": 39
        }
      ]
    },
    {
      "cell_type": "code",
      "source": [
        "# Predict on the test set\n",
        "y_pred_activity_xgb = xgb_activity.predict(X_test)"
      ],
      "metadata": {
        "id": "BBB4UQxq_jVJ"
      },
      "execution_count": null,
      "outputs": []
    },
    {
      "cell_type": "code",
      "source": [
        "# Evaluate XGBoost Activity Model\n",
        "mse_activity_xgb = mean_squared_error(y_test_activity, y_pred_activity_xgb)\n",
        "r2_activity_xgb = r2_score(y_test_activity, y_pred_activity_xgb)\n",
        "print(f\"XGBoost Activity Model - MSE: {mse_activity_xgb}, R2: {r2_activity_xgb}\")"
      ],
      "metadata": {
        "colab": {
          "base_uri": "https://localhost:8080/"
        },
        "id": "mel4UlQA_Pd7",
        "outputId": "57e42e42-4aed-4a89-abef-61393ffd0169"
      },
      "execution_count": null,
      "outputs": [
        {
          "output_type": "stream",
          "name": "stdout",
          "text": [
            "XGBoost Activity Model - MSE: 0.021110199162950583, R2: 0.26250613580172255\n"
          ]
        }
      ]
    },
    {
      "cell_type": "code",
      "source": [
        "import pickle\n",
        "pickle.dump(onehot_encoder, open('onehot_encoder.pkl','wb'))\n",
        "pickle.dump(tfidf_side, open('tfidf_side.pkl','wb'))\n",
        "pickle.dump(tfidf_condition, open('tfidf_condition.pkl','wb'))\n",
        "pickle.dump(rf_activity, open('rf_activity.pkl','wb'))\n",
        "pickle.dump(xgb_activity, open('xgb_activity.pkl','wb'))"
      ],
      "metadata": {
        "id": "geY6axJ3_d69"
      },
      "execution_count": null,
      "outputs": []
    },
    {
      "cell_type": "code",
      "source": [],
      "metadata": {
        "id": "IZ0v07lpKf6P"
      },
      "execution_count": null,
      "outputs": []
    },
    {
      "cell_type": "markdown",
      "source": [
        "# GUI App"
      ],
      "metadata": {
        "id": "IZW2MGUHKgSG"
      }
    },
    {
      "cell_type": "code",
      "source": [
        "import pickle\n",
        "import pandas as pd\n",
        "import numpy as np\n",
        "from sklearn.preprocessing import OneHotEncoder\n",
        "from sklearn.feature_extraction.text import TfidfVectorizer\n",
        "from sklearn.ensemble import RandomForestRegressor\n",
        "from sklearn.metrics import mean_squared_error, r2_score\n",
        "from sklearn.model_selection import train_test_split"
      ],
      "metadata": {
        "id": "1KxQ5p5CGBU3"
      },
      "execution_count": null,
      "outputs": []
    },
    {
      "cell_type": "code",
      "source": [
        "onehot_encoder =pickle.load(open('onehot_encoder.pkl','rb'))\n",
        "tfidf_side = pickle.load(open('tfidf_side.pkl','rb'))\n",
        "tfidf_condition = pickle.load(open('tfidf_condition.pkl','rb'))\n",
        "rf_activity = pickle.load(open('rf_activity.pkl','rb'))\n",
        "xgb_activity= pickle.load(open('xgb_activity.pkl','rb'))\n",
        "\n"
      ],
      "metadata": {
        "id": "5Gjuo2iXG2ji"
      },
      "execution_count": null,
      "outputs": []
    },
    {
      "cell_type": "code",
      "source": [
        "import string\n",
        "\n",
        "# Function to remove punctuation and convert text to lowercase\n",
        "def preprocess_text(text):\n",
        "    text = text.lower()  # Convert to lowercase\n",
        "    text = text.translate(str.maketrans('', '', string.punctuation))  # Remove punctuation\n",
        "    return text"
      ],
      "metadata": {
        "id": "2I68sH4gG2pS"
      },
      "execution_count": null,
      "outputs": []
    },
    {
      "cell_type": "code",
      "source": [
        "categorical_columns = ['medical_condition', 'generic_name', 'rx_otc', 'pregnancy_category', 'csa']"
      ],
      "metadata": {
        "id": "4NW_fhdbG2sH"
      },
      "execution_count": null,
      "outputs": []
    },
    {
      "cell_type": "code",
      "source": [
        "# Function to preprocess user input and predict activity\n",
        "def predict_activity(user_input, model_type='random_forest'):\n",
        "    # Preprocess categorical inputs\n",
        "    user_categorical = [user_input[col] for col in categorical_columns]\n",
        "    user_categorical_encoded = onehot_encoder.transform([user_categorical])\n",
        "\n",
        "    # Preprocess text inputs\n",
        "    user_side_effects = preprocess_text(user_input['side_effects'])\n",
        "    user_medical_condition_desc = preprocess_text(user_input['medical_condition_description'])\n",
        "\n",
        "    # Vectorize text inputs\n",
        "    user_tfidf_side_effects = tfidf_side.transform([user_side_effects]).toarray()\n",
        "    user_tfidf_medical_condition_desc = tfidf_condition.transform([user_medical_condition_desc]).toarray()\n",
        "\n",
        "    # Combine all features\n",
        "    user_features = np.hstack([user_categorical_encoded, user_tfidf_side_effects, user_tfidf_medical_condition_desc])\n",
        "\n",
        "    # Predict activity based on selected model\n",
        "    if model_type == 'random_forest':\n",
        "        prediction = rf_activity.predict(user_features)\n",
        "    elif model_type == 'xgboost':\n",
        "        prediction = xgb_activity.predict(user_features)\n",
        "    else:\n",
        "        raise ValueError(\"Invalid model type. Choose 'random_forest' or 'xgboost'.\")\n",
        "\n",
        "    return prediction[0]\n",
        "\n"
      ],
      "metadata": {
        "id": "yEtRzn7WGBYK"
      },
      "execution_count": null,
      "outputs": []
    },
    {
      "cell_type": "code",
      "source": [
        "# Example usage of the prediction function\n",
        "user_input = {\n",
        "    'generic_name': 'doxycycline',\n",
        "    'medical_condition': 'Acne',\n",
        "    'rx_otc': 'Rx',\n",
        "    'pregnancy_category': 'D',\n",
        "    'csa': 'N',\n",
        "    'side_effects': 'hives, difficult breathing, swelling',\n",
        "    'medical_condition_description': 'Acne Vulgaris, Blackheads, '\n",
        "}\n",
        "\n",
        "# Predict using Random Forest\n",
        "predicted_activity_rf = predict_activity(user_input, model_type='random_forest')\n",
        "print(f\"Predicted Activity (Random Forest): {predicted_activity_rf}\")\n",
        "\n",
        "# Predict using XGBoost\n",
        "predicted_activity_xgb = predict_activity(user_input, model_type='xgboost')\n",
        "print(f\"Predicted Activity (XGBoost): {predicted_activity_xgb}\")"
      ],
      "metadata": {
        "colab": {
          "base_uri": "https://localhost:8080/"
        },
        "id": "sNS4XoalGBbf",
        "outputId": "2ebb8b92-ccdd-4a32-9a38-af4ba1b4c006"
      },
      "execution_count": null,
      "outputs": [
        {
          "output_type": "stream",
          "name": "stdout",
          "text": [
            "Predicted Activity (Random Forest): 0.1754963095238096\n",
            "Predicted Activity (XGBoost): 0.1300130933523178\n"
          ]
        },
        {
          "output_type": "stream",
          "name": "stderr",
          "text": [
            "/usr/local/lib/python3.10/dist-packages/sklearn/base.py:465: UserWarning: X does not have valid feature names, but OneHotEncoder was fitted with feature names\n",
            "  warnings.warn(\n",
            "/usr/local/lib/python3.10/dist-packages/sklearn/preprocessing/_encoders.py:228: UserWarning: Found unknown categories in columns [0, 2, 3, 4] during transform. These unknown categories will be encoded as all zeros\n",
            "  warnings.warn(\n",
            "/usr/local/lib/python3.10/dist-packages/sklearn/base.py:465: UserWarning: X does not have valid feature names, but OneHotEncoder was fitted with feature names\n",
            "  warnings.warn(\n",
            "/usr/local/lib/python3.10/dist-packages/sklearn/preprocessing/_encoders.py:228: UserWarning: Found unknown categories in columns [0, 2, 3, 4] during transform. These unknown categories will be encoded as all zeros\n",
            "  warnings.warn(\n"
          ]
        }
      ]
    },
    {
      "cell_type": "code",
      "source": [],
      "metadata": {
        "id": "FO7xexQWGBeJ"
      },
      "execution_count": null,
      "outputs": []
    }
  ]
}